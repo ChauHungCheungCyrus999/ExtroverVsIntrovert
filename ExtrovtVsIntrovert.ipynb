{
  "nbformat": 4,
  "nbformat_minor": 0,
  "metadata": {
    "colab": {
      "provenance": []
    },
    "kernelspec": {
      "name": "python3",
      "display_name": "Python 3"
    },
    "language_info": {
      "name": "python"
    }
  },
  "cells": [
    {
      "cell_type": "markdown",
      "source": [
        "**Data Link: https://www.kaggle.com/datasets/rakeshkapilavai/extrovert-vs-introvert-behavior-data/data**"
      ],
      "metadata": {
        "id": "_n5yhWtY0M1Z"
      }
    },
    {
      "cell_type": "markdown",
      "source": [
        "Coder: Chau Hung Cheung, Cyrus\n",
        "\n",
        "Date: 10/6/2025"
      ],
      "metadata": {
        "id": "xXHlCgVIy-uu"
      }
    },
    {
      "cell_type": "code",
      "execution_count": 110,
      "metadata": {
        "id": "7WrzCE5Whg4i"
      },
      "outputs": [],
      "source": [
        "import sqlite3\n",
        "import pandas as pd\n",
        "import numpy as np\n",
        "import seaborn as sns\n",
        "import matplotlib.pyplot as plt\n",
        "from scipy import stats\n",
        "from sklearn.preprocessing import StandardScaler\n",
        "from sklearn.model_selection import train_test_split\n",
        "from sklearn.preprocessing import LabelEncoder\n",
        "from sklearn.linear_model import LogisticRegression\n",
        "from sklearn.ensemble import RandomForestClassifier\n",
        "from sklearn.metrics import accuracy_score, classification_report"
      ]
    },
    {
      "cell_type": "code",
      "source": [
        "df = pd.read_csv('personality_dataset.csv')\n",
        "print(df.head())\n",
        "conn = sqlite3.connect(\"\")"
      ],
      "metadata": {
        "id": "a4jgLDOoxoci",
        "colab": {
          "base_uri": "https://localhost:8080/"
        },
        "outputId": "5de04ba9-ab44-4524-fb30-b53a90321faa"
      },
      "execution_count": 111,
      "outputs": [
        {
          "output_type": "stream",
          "name": "stdout",
          "text": [
            "   Time_spent_Alone Stage_fear  Social_event_attendance  Going_outside  \\\n",
            "0               4.0         No                      4.0            6.0   \n",
            "1               9.0        Yes                      0.0            0.0   \n",
            "2               9.0        Yes                      1.0            2.0   \n",
            "3               0.0         No                      6.0            7.0   \n",
            "4               3.0         No                      9.0            4.0   \n",
            "\n",
            "  Drained_after_socializing  Friends_circle_size  Post_frequency Personality  \n",
            "0                        No                 13.0             5.0   Extrovert  \n",
            "1                       Yes                  0.0             3.0   Introvert  \n",
            "2                       Yes                  5.0             2.0   Introvert  \n",
            "3                        No                 14.0             8.0   Extrovert  \n",
            "4                        No                  8.0             5.0   Extrovert  \n"
          ]
        }
      ]
    },
    {
      "cell_type": "code",
      "source": [
        "# handle the missing val(drop the column)\n",
        "print(df.isnull().sum())"
      ],
      "metadata": {
        "colab": {
          "base_uri": "https://localhost:8080/"
        },
        "collapsed": true,
        "id": "y9ASiRZYqZ7j",
        "outputId": "30518f20-c029-4fa6-ec37-1f29d164b6a0"
      },
      "execution_count": 112,
      "outputs": [
        {
          "output_type": "stream",
          "name": "stdout",
          "text": [
            "Time_spent_Alone             63\n",
            "Stage_fear                   73\n",
            "Social_event_attendance      62\n",
            "Going_outside                66\n",
            "Drained_after_socializing    52\n",
            "Friends_circle_size          77\n",
            "Post_frequency               65\n",
            "Personality                   0\n",
            "dtype: int64\n"
          ]
        }
      ]
    },
    {
      "cell_type": "code",
      "source": [
        "df = df.dropna()\n",
        "print(df.isnull().sum())"
      ],
      "metadata": {
        "colab": {
          "base_uri": "https://localhost:8080/"
        },
        "collapsed": true,
        "id": "ZDW1vgqyrMrC",
        "outputId": "d7427859-c16c-4646-ab14-0f730dd65f4d"
      },
      "execution_count": 113,
      "outputs": [
        {
          "output_type": "stream",
          "name": "stdout",
          "text": [
            "Time_spent_Alone             0\n",
            "Stage_fear                   0\n",
            "Social_event_attendance      0\n",
            "Going_outside                0\n",
            "Drained_after_socializing    0\n",
            "Friends_circle_size          0\n",
            "Post_frequency               0\n",
            "Personality                  0\n",
            "dtype: int64\n"
          ]
        }
      ]
    },
    {
      "cell_type": "code",
      "source": [
        "print(df['Stage_fear'].unique())\n",
        "print(df['Drained_after_socializing'].unique())\n",
        "print(df['Personality'].unique())"
      ],
      "metadata": {
        "colab": {
          "base_uri": "https://localhost:8080/"
        },
        "collapsed": true,
        "id": "BfhfqXMFtCy7",
        "outputId": "cb6a9e48-55a0-41bf-9546-2fb46c3a8e07"
      },
      "execution_count": 114,
      "outputs": [
        {
          "output_type": "stream",
          "name": "stdout",
          "text": [
            "['No' 'Yes']\n",
            "['No' 'Yes']\n",
            "['Extrovert' 'Introvert']\n"
          ]
        }
      ]
    },
    {
      "cell_type": "code",
      "source": [
        "# Encode Categorical Variables\n",
        "df['Stage_fear'] = df['Stage_fear'].map({\"Yes\" : 1, \"No\" : 0})\n",
        "df['Drained_after_socializing'] = df['Drained_after_socializing'].map({\"Yes\" : 1, \"No\" : 0})\n",
        "df['Personality'] = df['Personality'].map({\"Extrovert\": 1, \"Introvert\": 0})\n",
        "df.describe()"
      ],
      "metadata": {
        "colab": {
          "base_uri": "https://localhost:8080/",
          "height": 320
        },
        "collapsed": true,
        "id": "z5Bka2C1tbsK",
        "outputId": "319e29de-c5fc-4a3e-a5bc-9daae08a0116"
      },
      "execution_count": 115,
      "outputs": [
        {
          "output_type": "execute_result",
          "data": {
            "text/plain": [
              "       Time_spent_Alone   Stage_fear  Social_event_attendance  Going_outside  \\\n",
              "count       2477.000000  2477.000000              2477.000000    2477.000000   \n",
              "mean           4.522406     0.498991                 3.939039       3.013726   \n",
              "std            3.491162     0.500100                 2.900044       2.257239   \n",
              "min            0.000000     0.000000                 0.000000       0.000000   \n",
              "25%            2.000000     0.000000                 2.000000       1.000000   \n",
              "50%            4.000000     0.000000                 3.000000       3.000000   \n",
              "75%            8.000000     1.000000                 6.000000       5.000000   \n",
              "max           11.000000     1.000000                10.000000       7.000000   \n",
              "\n",
              "       Drained_after_socializing  Friends_circle_size  Post_frequency  \\\n",
              "count                2477.000000          2477.000000     2477.000000   \n",
              "mean                    0.498991             6.239806        3.559548   \n",
              "std                     0.500100             4.311365        2.927397   \n",
              "min                     0.000000             0.000000        0.000000   \n",
              "25%                     0.000000             3.000000        1.000000   \n",
              "50%                     0.000000             5.000000        3.000000   \n",
              "75%                     1.000000            10.000000        6.000000   \n",
              "max                     1.000000            15.000000       10.000000   \n",
              "\n",
              "       Personality  \n",
              "count  2477.000000  \n",
              "mean      0.514332  \n",
              "std       0.499895  \n",
              "min       0.000000  \n",
              "25%       0.000000  \n",
              "50%       1.000000  \n",
              "75%       1.000000  \n",
              "max       1.000000  "
            ],
            "text/html": [
              "\n",
              "  <div id=\"df-45d594cd-93a1-4be0-b3b2-16d233230d4d\" class=\"colab-df-container\">\n",
              "    <div>\n",
              "<style scoped>\n",
              "    .dataframe tbody tr th:only-of-type {\n",
              "        vertical-align: middle;\n",
              "    }\n",
              "\n",
              "    .dataframe tbody tr th {\n",
              "        vertical-align: top;\n",
              "    }\n",
              "\n",
              "    .dataframe thead th {\n",
              "        text-align: right;\n",
              "    }\n",
              "</style>\n",
              "<table border=\"1\" class=\"dataframe\">\n",
              "  <thead>\n",
              "    <tr style=\"text-align: right;\">\n",
              "      <th></th>\n",
              "      <th>Time_spent_Alone</th>\n",
              "      <th>Stage_fear</th>\n",
              "      <th>Social_event_attendance</th>\n",
              "      <th>Going_outside</th>\n",
              "      <th>Drained_after_socializing</th>\n",
              "      <th>Friends_circle_size</th>\n",
              "      <th>Post_frequency</th>\n",
              "      <th>Personality</th>\n",
              "    </tr>\n",
              "  </thead>\n",
              "  <tbody>\n",
              "    <tr>\n",
              "      <th>count</th>\n",
              "      <td>2477.000000</td>\n",
              "      <td>2477.000000</td>\n",
              "      <td>2477.000000</td>\n",
              "      <td>2477.000000</td>\n",
              "      <td>2477.000000</td>\n",
              "      <td>2477.000000</td>\n",
              "      <td>2477.000000</td>\n",
              "      <td>2477.000000</td>\n",
              "    </tr>\n",
              "    <tr>\n",
              "      <th>mean</th>\n",
              "      <td>4.522406</td>\n",
              "      <td>0.498991</td>\n",
              "      <td>3.939039</td>\n",
              "      <td>3.013726</td>\n",
              "      <td>0.498991</td>\n",
              "      <td>6.239806</td>\n",
              "      <td>3.559548</td>\n",
              "      <td>0.514332</td>\n",
              "    </tr>\n",
              "    <tr>\n",
              "      <th>std</th>\n",
              "      <td>3.491162</td>\n",
              "      <td>0.500100</td>\n",
              "      <td>2.900044</td>\n",
              "      <td>2.257239</td>\n",
              "      <td>0.500100</td>\n",
              "      <td>4.311365</td>\n",
              "      <td>2.927397</td>\n",
              "      <td>0.499895</td>\n",
              "    </tr>\n",
              "    <tr>\n",
              "      <th>min</th>\n",
              "      <td>0.000000</td>\n",
              "      <td>0.000000</td>\n",
              "      <td>0.000000</td>\n",
              "      <td>0.000000</td>\n",
              "      <td>0.000000</td>\n",
              "      <td>0.000000</td>\n",
              "      <td>0.000000</td>\n",
              "      <td>0.000000</td>\n",
              "    </tr>\n",
              "    <tr>\n",
              "      <th>25%</th>\n",
              "      <td>2.000000</td>\n",
              "      <td>0.000000</td>\n",
              "      <td>2.000000</td>\n",
              "      <td>1.000000</td>\n",
              "      <td>0.000000</td>\n",
              "      <td>3.000000</td>\n",
              "      <td>1.000000</td>\n",
              "      <td>0.000000</td>\n",
              "    </tr>\n",
              "    <tr>\n",
              "      <th>50%</th>\n",
              "      <td>4.000000</td>\n",
              "      <td>0.000000</td>\n",
              "      <td>3.000000</td>\n",
              "      <td>3.000000</td>\n",
              "      <td>0.000000</td>\n",
              "      <td>5.000000</td>\n",
              "      <td>3.000000</td>\n",
              "      <td>1.000000</td>\n",
              "    </tr>\n",
              "    <tr>\n",
              "      <th>75%</th>\n",
              "      <td>8.000000</td>\n",
              "      <td>1.000000</td>\n",
              "      <td>6.000000</td>\n",
              "      <td>5.000000</td>\n",
              "      <td>1.000000</td>\n",
              "      <td>10.000000</td>\n",
              "      <td>6.000000</td>\n",
              "      <td>1.000000</td>\n",
              "    </tr>\n",
              "    <tr>\n",
              "      <th>max</th>\n",
              "      <td>11.000000</td>\n",
              "      <td>1.000000</td>\n",
              "      <td>10.000000</td>\n",
              "      <td>7.000000</td>\n",
              "      <td>1.000000</td>\n",
              "      <td>15.000000</td>\n",
              "      <td>10.000000</td>\n",
              "      <td>1.000000</td>\n",
              "    </tr>\n",
              "  </tbody>\n",
              "</table>\n",
              "</div>\n",
              "    <div class=\"colab-df-buttons\">\n",
              "\n",
              "  <div class=\"colab-df-container\">\n",
              "    <button class=\"colab-df-convert\" onclick=\"convertToInteractive('df-45d594cd-93a1-4be0-b3b2-16d233230d4d')\"\n",
              "            title=\"Convert this dataframe to an interactive table.\"\n",
              "            style=\"display:none;\">\n",
              "\n",
              "  <svg xmlns=\"http://www.w3.org/2000/svg\" height=\"24px\" viewBox=\"0 -960 960 960\">\n",
              "    <path d=\"M120-120v-720h720v720H120Zm60-500h600v-160H180v160Zm220 220h160v-160H400v160Zm0 220h160v-160H400v160ZM180-400h160v-160H180v160Zm440 0h160v-160H620v160ZM180-180h160v-160H180v160Zm440 0h160v-160H620v160Z\"/>\n",
              "  </svg>\n",
              "    </button>\n",
              "\n",
              "  <style>\n",
              "    .colab-df-container {\n",
              "      display:flex;\n",
              "      gap: 12px;\n",
              "    }\n",
              "\n",
              "    .colab-df-convert {\n",
              "      background-color: #E8F0FE;\n",
              "      border: none;\n",
              "      border-radius: 50%;\n",
              "      cursor: pointer;\n",
              "      display: none;\n",
              "      fill: #1967D2;\n",
              "      height: 32px;\n",
              "      padding: 0 0 0 0;\n",
              "      width: 32px;\n",
              "    }\n",
              "\n",
              "    .colab-df-convert:hover {\n",
              "      background-color: #E2EBFA;\n",
              "      box-shadow: 0px 1px 2px rgba(60, 64, 67, 0.3), 0px 1px 3px 1px rgba(60, 64, 67, 0.15);\n",
              "      fill: #174EA6;\n",
              "    }\n",
              "\n",
              "    .colab-df-buttons div {\n",
              "      margin-bottom: 4px;\n",
              "    }\n",
              "\n",
              "    [theme=dark] .colab-df-convert {\n",
              "      background-color: #3B4455;\n",
              "      fill: #D2E3FC;\n",
              "    }\n",
              "\n",
              "    [theme=dark] .colab-df-convert:hover {\n",
              "      background-color: #434B5C;\n",
              "      box-shadow: 0px 1px 3px 1px rgba(0, 0, 0, 0.15);\n",
              "      filter: drop-shadow(0px 1px 2px rgba(0, 0, 0, 0.3));\n",
              "      fill: #FFFFFF;\n",
              "    }\n",
              "  </style>\n",
              "\n",
              "    <script>\n",
              "      const buttonEl =\n",
              "        document.querySelector('#df-45d594cd-93a1-4be0-b3b2-16d233230d4d button.colab-df-convert');\n",
              "      buttonEl.style.display =\n",
              "        google.colab.kernel.accessAllowed ? 'block' : 'none';\n",
              "\n",
              "      async function convertToInteractive(key) {\n",
              "        const element = document.querySelector('#df-45d594cd-93a1-4be0-b3b2-16d233230d4d');\n",
              "        const dataTable =\n",
              "          await google.colab.kernel.invokeFunction('convertToInteractive',\n",
              "                                                    [key], {});\n",
              "        if (!dataTable) return;\n",
              "\n",
              "        const docLinkHtml = 'Like what you see? Visit the ' +\n",
              "          '<a target=\"_blank\" href=https://colab.research.google.com/notebooks/data_table.ipynb>data table notebook</a>'\n",
              "          + ' to learn more about interactive tables.';\n",
              "        element.innerHTML = '';\n",
              "        dataTable['output_type'] = 'display_data';\n",
              "        await google.colab.output.renderOutput(dataTable, element);\n",
              "        const docLink = document.createElement('div');\n",
              "        docLink.innerHTML = docLinkHtml;\n",
              "        element.appendChild(docLink);\n",
              "      }\n",
              "    </script>\n",
              "  </div>\n",
              "\n",
              "\n",
              "    <div id=\"df-07c835dd-d53a-4a63-948f-48ecc5b98be5\">\n",
              "      <button class=\"colab-df-quickchart\" onclick=\"quickchart('df-07c835dd-d53a-4a63-948f-48ecc5b98be5')\"\n",
              "                title=\"Suggest charts\"\n",
              "                style=\"display:none;\">\n",
              "\n",
              "<svg xmlns=\"http://www.w3.org/2000/svg\" height=\"24px\"viewBox=\"0 0 24 24\"\n",
              "     width=\"24px\">\n",
              "    <g>\n",
              "        <path d=\"M19 3H5c-1.1 0-2 .9-2 2v14c0 1.1.9 2 2 2h14c1.1 0 2-.9 2-2V5c0-1.1-.9-2-2-2zM9 17H7v-7h2v7zm4 0h-2V7h2v10zm4 0h-2v-4h2v4z\"/>\n",
              "    </g>\n",
              "</svg>\n",
              "      </button>\n",
              "\n",
              "<style>\n",
              "  .colab-df-quickchart {\n",
              "      --bg-color: #E8F0FE;\n",
              "      --fill-color: #1967D2;\n",
              "      --hover-bg-color: #E2EBFA;\n",
              "      --hover-fill-color: #174EA6;\n",
              "      --disabled-fill-color: #AAA;\n",
              "      --disabled-bg-color: #DDD;\n",
              "  }\n",
              "\n",
              "  [theme=dark] .colab-df-quickchart {\n",
              "      --bg-color: #3B4455;\n",
              "      --fill-color: #D2E3FC;\n",
              "      --hover-bg-color: #434B5C;\n",
              "      --hover-fill-color: #FFFFFF;\n",
              "      --disabled-bg-color: #3B4455;\n",
              "      --disabled-fill-color: #666;\n",
              "  }\n",
              "\n",
              "  .colab-df-quickchart {\n",
              "    background-color: var(--bg-color);\n",
              "    border: none;\n",
              "    border-radius: 50%;\n",
              "    cursor: pointer;\n",
              "    display: none;\n",
              "    fill: var(--fill-color);\n",
              "    height: 32px;\n",
              "    padding: 0;\n",
              "    width: 32px;\n",
              "  }\n",
              "\n",
              "  .colab-df-quickchart:hover {\n",
              "    background-color: var(--hover-bg-color);\n",
              "    box-shadow: 0 1px 2px rgba(60, 64, 67, 0.3), 0 1px 3px 1px rgba(60, 64, 67, 0.15);\n",
              "    fill: var(--button-hover-fill-color);\n",
              "  }\n",
              "\n",
              "  .colab-df-quickchart-complete:disabled,\n",
              "  .colab-df-quickchart-complete:disabled:hover {\n",
              "    background-color: var(--disabled-bg-color);\n",
              "    fill: var(--disabled-fill-color);\n",
              "    box-shadow: none;\n",
              "  }\n",
              "\n",
              "  .colab-df-spinner {\n",
              "    border: 2px solid var(--fill-color);\n",
              "    border-color: transparent;\n",
              "    border-bottom-color: var(--fill-color);\n",
              "    animation:\n",
              "      spin 1s steps(1) infinite;\n",
              "  }\n",
              "\n",
              "  @keyframes spin {\n",
              "    0% {\n",
              "      border-color: transparent;\n",
              "      border-bottom-color: var(--fill-color);\n",
              "      border-left-color: var(--fill-color);\n",
              "    }\n",
              "    20% {\n",
              "      border-color: transparent;\n",
              "      border-left-color: var(--fill-color);\n",
              "      border-top-color: var(--fill-color);\n",
              "    }\n",
              "    30% {\n",
              "      border-color: transparent;\n",
              "      border-left-color: var(--fill-color);\n",
              "      border-top-color: var(--fill-color);\n",
              "      border-right-color: var(--fill-color);\n",
              "    }\n",
              "    40% {\n",
              "      border-color: transparent;\n",
              "      border-right-color: var(--fill-color);\n",
              "      border-top-color: var(--fill-color);\n",
              "    }\n",
              "    60% {\n",
              "      border-color: transparent;\n",
              "      border-right-color: var(--fill-color);\n",
              "    }\n",
              "    80% {\n",
              "      border-color: transparent;\n",
              "      border-right-color: var(--fill-color);\n",
              "      border-bottom-color: var(--fill-color);\n",
              "    }\n",
              "    90% {\n",
              "      border-color: transparent;\n",
              "      border-bottom-color: var(--fill-color);\n",
              "    }\n",
              "  }\n",
              "</style>\n",
              "\n",
              "      <script>\n",
              "        async function quickchart(key) {\n",
              "          const quickchartButtonEl =\n",
              "            document.querySelector('#' + key + ' button');\n",
              "          quickchartButtonEl.disabled = true;  // To prevent multiple clicks.\n",
              "          quickchartButtonEl.classList.add('colab-df-spinner');\n",
              "          try {\n",
              "            const charts = await google.colab.kernel.invokeFunction(\n",
              "                'suggestCharts', [key], {});\n",
              "          } catch (error) {\n",
              "            console.error('Error during call to suggestCharts:', error);\n",
              "          }\n",
              "          quickchartButtonEl.classList.remove('colab-df-spinner');\n",
              "          quickchartButtonEl.classList.add('colab-df-quickchart-complete');\n",
              "        }\n",
              "        (() => {\n",
              "          let quickchartButtonEl =\n",
              "            document.querySelector('#df-07c835dd-d53a-4a63-948f-48ecc5b98be5 button');\n",
              "          quickchartButtonEl.style.display =\n",
              "            google.colab.kernel.accessAllowed ? 'block' : 'none';\n",
              "        })();\n",
              "      </script>\n",
              "    </div>\n",
              "    </div>\n",
              "  </div>\n"
            ],
            "application/vnd.google.colaboratory.intrinsic+json": {
              "type": "dataframe",
              "summary": "{\n  \"name\": \"df\",\n  \"rows\": 8,\n  \"fields\": [\n    {\n      \"column\": \"Time_spent_Alone\",\n      \"properties\": {\n        \"dtype\": \"number\",\n        \"std\": 874.0910075682814,\n        \"min\": 0.0,\n        \"max\": 2477.0,\n        \"num_unique_values\": 8,\n        \"samples\": [\n          4.522406136455389,\n          4.0,\n          2477.0\n        ],\n        \"semantic_type\": \"\",\n        \"description\": \"\"\n      }\n    },\n    {\n      \"column\": \"Stage_fear\",\n      \"properties\": {\n        \"dtype\": \"number\",\n        \"std\": 875.6003705936034,\n        \"min\": 0.0,\n        \"max\": 2477.0,\n        \"num_unique_values\": 5,\n        \"samples\": [\n          0.49899071457408156,\n          1.0,\n          0.5000999402487929\n        ],\n        \"semantic_type\": \"\",\n        \"description\": \"\"\n      }\n    },\n    {\n      \"column\": \"Social_event_attendance\",\n      \"properties\": {\n        \"dtype\": \"number\",\n        \"std\": 874.3507446007964,\n        \"min\": 0.0,\n        \"max\": 2477.0,\n        \"num_unique_values\": 8,\n        \"samples\": [\n          3.939039160274526,\n          3.0,\n          2477.0\n        ],\n        \"semantic_type\": \"\",\n        \"description\": \"\"\n      }\n    },\n    {\n      \"column\": \"Going_outside\",\n      \"properties\": {\n        \"dtype\": \"number\",\n        \"std\": 874.6801416081308,\n        \"min\": 0.0,\n        \"max\": 2477.0,\n        \"num_unique_values\": 8,\n        \"samples\": [\n          3.013726281792491,\n          3.0,\n          2477.0\n        ],\n        \"semantic_type\": \"\",\n        \"description\": \"\"\n      }\n    },\n    {\n      \"column\": \"Drained_after_socializing\",\n      \"properties\": {\n        \"dtype\": \"number\",\n        \"std\": 875.6003705936034,\n        \"min\": 0.0,\n        \"max\": 2477.0,\n        \"num_unique_values\": 5,\n        \"samples\": [\n          0.49899071457408156,\n          1.0,\n          0.5000999402487929\n        ],\n        \"semantic_type\": \"\",\n        \"description\": \"\"\n      }\n    },\n    {\n      \"column\": \"Friends_circle_size\",\n      \"properties\": {\n        \"dtype\": \"number\",\n        \"std\": 873.5639846871509,\n        \"min\": 0.0,\n        \"max\": 2477.0,\n        \"num_unique_values\": 8,\n        \"samples\": [\n          6.239806217198224,\n          5.0,\n          2477.0\n        ],\n        \"semantic_type\": \"\",\n        \"description\": \"\"\n      }\n    },\n    {\n      \"column\": \"Post_frequency\",\n      \"properties\": {\n        \"dtype\": \"number\",\n        \"std\": 874.4194302042227,\n        \"min\": 0.0,\n        \"max\": 2477.0,\n        \"num_unique_values\": 8,\n        \"samples\": [\n          3.5595478401291887,\n          3.0,\n          2477.0\n        ],\n        \"semantic_type\": \"\",\n        \"description\": \"\"\n      }\n    },\n    {\n      \"column\": \"Personality\",\n      \"properties\": {\n        \"dtype\": \"number\",\n        \"std\": 875.5490983139177,\n        \"min\": 0.0,\n        \"max\": 2477.0,\n        \"num_unique_values\": 5,\n        \"samples\": [\n          0.514331853048042,\n          1.0,\n          0.4998954734105384\n        ],\n        \"semantic_type\": \"\",\n        \"description\": \"\"\n      }\n    }\n  ]\n}"
            }
          },
          "metadata": {},
          "execution_count": 115
        }
      ]
    },
    {
      "cell_type": "code",
      "source": [
        "# Drop duplicate rows\n",
        "print(df.duplicated().sum())\n",
        "df = df.drop_duplicates()"
      ],
      "metadata": {
        "colab": {
          "base_uri": "https://localhost:8080/"
        },
        "collapsed": true,
        "id": "REeA4xDAxmHb",
        "outputId": "d749879b-f264-4d04-caa7-d16482f88d0c"
      },
      "execution_count": 116,
      "outputs": [
        {
          "output_type": "stream",
          "name": "stdout",
          "text": [
            "379\n"
          ]
        }
      ]
    },
    {
      "cell_type": "code",
      "source": [
        "# Visualize the entire dataset at once\n",
        "fig, axes = plt.subplots(nrows=3, ncols=3, figsize=(15, 12))\n",
        "axes = axes.flatten()\n",
        "\n",
        "#Loop Through Numeric Columns and Plot Histograms\n",
        "for i, col in enumerate(df.select_dtypes(include=['int64', 'float64']).columns):\n",
        "    df[col].plot(kind='hist', bins=10, ax=axes[i], title=col)\n",
        "    axes[i].set_xlabel(col)\n",
        "    axes[i].set_ylabel('Frequency')\n",
        "\n",
        "# Hide any unused subplots\n",
        "for j in range(i+1, len(axes)):\n",
        "    fig.delaxes(axes[j])\n",
        "\n",
        "plt.tight_layout() # to ensure that hte labels aint overlapping\n",
        "plt.show()"
      ],
      "metadata": {
        "colab": {
          "base_uri": "https://localhost:8080/",
          "height": 692
        },
        "id": "LN3MHndL2L4H",
        "outputId": "bf91692c-b5fe-4fe8-d169-a4b218b172b4"
      },
      "execution_count": 117,
      "outputs": [
        {
          "output_type": "display_data",
          "data": {
            "text/plain": [
              "<Figure size 1500x1200 with 8 Axes>"
            ],
            "image/png": "[encoded data removed]"
          },
          "metadata": {}
        }
      ]
    },
    {
      "cell_type": "code",
      "source": [
        "# Extrovert\": 1, \"Introvert\": 0\n",
        "df.groupby(\"Personality\")[\"Time_spent_Alone\"].mean()"
      ],
      "metadata": {
        "colab": {
          "base_uri": "https://localhost:8080/",
          "height": 178
        },
        "id": "AhIhgeMUCPtS",
        "outputId": "2b199687-37da-41fd-b734-8b604b57c490"
      },
      "execution_count": 118,
      "outputs": [
        {
          "output_type": "execute_result",
          "data": {
            "text/plain": [
              "Personality\n",
              "0    6.926421\n",
              "1    2.139883\n",
              "Name: Time_spent_Alone, dtype: float64"
            ],
            "text/html": [
              "<div>\n",
              "<style scoped>\n",
              "    .dataframe tbody tr th:only-of-type {\n",
              "        vertical-align: middle;\n",
              "    }\n",
              "\n",
              "    .dataframe tbody tr th {\n",
              "        vertical-align: top;\n",
              "    }\n",
              "\n",
              "    .dataframe thead th {\n",
              "        text-align: right;\n",
              "    }\n",
              "</style>\n",
              "<table border=\"1\" class=\"dataframe\">\n",
              "  <thead>\n",
              "    <tr style=\"text-align: right;\">\n",
              "      <th></th>\n",
              "      <th>Time_spent_Alone</th>\n",
              "    </tr>\n",
              "    <tr>\n",
              "      <th>Personality</th>\n",
              "      <th></th>\n",
              "    </tr>\n",
              "  </thead>\n",
              "  <tbody>\n",
              "    <tr>\n",
              "      <th>0</th>\n",
              "      <td>6.926421</td>\n",
              "    </tr>\n",
              "    <tr>\n",
              "      <th>1</th>\n",
              "      <td>2.139883</td>\n",
              "    </tr>\n",
              "  </tbody>\n",
              "</table>\n",
              "</div><br><label><b>dtype:</b> float64</label>"
            ]
          },
          "metadata": {},
          "execution_count": 118
        }
      ]
    },
    {
      "cell_type": "code",
      "source": [
        "df.groupby(\"Personality\")[\"Social_event_attendance\"].mean()"
      ],
      "metadata": {
        "colab": {
          "base_uri": "https://localhost:8080/",
          "height": 178
        },
        "id": "8zPCCgdHCsnx",
        "outputId": "d5d6129f-5bd9-4ff2-fae8-66583c302704"
      },
      "execution_count": 119,
      "outputs": [
        {
          "output_type": "execute_result",
          "data": {
            "text/plain": [
              "Personality\n",
              "0    1.929766\n",
              "1    5.945046\n",
              "Name: Social_event_attendance, dtype: float64"
            ],
            "text/html": [
              "<div>\n",
              "<style scoped>\n",
              "    .dataframe tbody tr th:only-of-type {\n",
              "        vertical-align: middle;\n",
              "    }\n",
              "\n",
              "    .dataframe tbody tr th {\n",
              "        vertical-align: top;\n",
              "    }\n",
              "\n",
              "    .dataframe thead th {\n",
              "        text-align: right;\n",
              "    }\n",
              "</style>\n",
              "<table border=\"1\" class=\"dataframe\">\n",
              "  <thead>\n",
              "    <tr style=\"text-align: right;\">\n",
              "      <th></th>\n",
              "      <th>Social_event_attendance</th>\n",
              "    </tr>\n",
              "    <tr>\n",
              "      <th>Personality</th>\n",
              "      <th></th>\n",
              "    </tr>\n",
              "  </thead>\n",
              "  <tbody>\n",
              "    <tr>\n",
              "      <th>0</th>\n",
              "      <td>1.929766</td>\n",
              "    </tr>\n",
              "    <tr>\n",
              "      <th>1</th>\n",
              "      <td>5.945046</td>\n",
              "    </tr>\n",
              "  </tbody>\n",
              "</table>\n",
              "</div><br><label><b>dtype:</b> float64</label>"
            ]
          },
          "metadata": {},
          "execution_count": 119
        }
      ]
    },
    {
      "cell_type": "code",
      "source": [
        "df.groupby(\"Personality\")[\"Going_outside\"].mean()"
      ],
      "metadata": {
        "colab": {
          "base_uri": "https://localhost:8080/",
          "height": 178
        },
        "id": "fZj1i2MhCvy6",
        "outputId": "a1c2592e-0042-499a-cdb3-533b9dec147e"
      },
      "execution_count": 120,
      "outputs": [
        {
          "output_type": "execute_result",
          "data": {
            "text/plain": [
              "Personality\n",
              "0    1.418060\n",
              "1    4.612823\n",
              "Name: Going_outside, dtype: float64"
            ],
            "text/html": [
              "<div>\n",
              "<style scoped>\n",
              "    .dataframe tbody tr th:only-of-type {\n",
              "        vertical-align: middle;\n",
              "    }\n",
              "\n",
              "    .dataframe tbody tr th {\n",
              "        vertical-align: top;\n",
              "    }\n",
              "\n",
              "    .dataframe thead th {\n",
              "        text-align: right;\n",
              "    }\n",
              "</style>\n",
              "<table border=\"1\" class=\"dataframe\">\n",
              "  <thead>\n",
              "    <tr style=\"text-align: right;\">\n",
              "      <th></th>\n",
              "      <th>Going_outside</th>\n",
              "    </tr>\n",
              "    <tr>\n",
              "      <th>Personality</th>\n",
              "      <th></th>\n",
              "    </tr>\n",
              "  </thead>\n",
              "  <tbody>\n",
              "    <tr>\n",
              "      <th>0</th>\n",
              "      <td>1.418060</td>\n",
              "    </tr>\n",
              "    <tr>\n",
              "      <th>1</th>\n",
              "      <td>4.612823</td>\n",
              "    </tr>\n",
              "  </tbody>\n",
              "</table>\n",
              "</div><br><label><b>dtype:</b> float64</label>"
            ]
          },
          "metadata": {},
          "execution_count": 120
        }
      ]
    },
    {
      "cell_type": "code",
      "source": [
        "df.groupby(\"Personality\")[\"Friends_circle_size\"].mean()"
      ],
      "metadata": {
        "colab": {
          "base_uri": "https://localhost:8080/",
          "height": 178
        },
        "id": "SNmpp37zDGeq",
        "outputId": "f0eba33c-9dfa-4abb-b350-98a9b9991e4c"
      },
      "execution_count": 121,
      "outputs": [
        {
          "output_type": "execute_result",
          "data": {
            "text/plain": [
              "Personality\n",
              "0    3.322185\n",
              "1    9.079101\n",
              "Name: Friends_circle_size, dtype: float64"
            ],
            "text/html": [
              "<div>\n",
              "<style scoped>\n",
              "    .dataframe tbody tr th:only-of-type {\n",
              "        vertical-align: middle;\n",
              "    }\n",
              "\n",
              "    .dataframe tbody tr th {\n",
              "        vertical-align: top;\n",
              "    }\n",
              "\n",
              "    .dataframe thead th {\n",
              "        text-align: right;\n",
              "    }\n",
              "</style>\n",
              "<table border=\"1\" class=\"dataframe\">\n",
              "  <thead>\n",
              "    <tr style=\"text-align: right;\">\n",
              "      <th></th>\n",
              "      <th>Friends_circle_size</th>\n",
              "    </tr>\n",
              "    <tr>\n",
              "      <th>Personality</th>\n",
              "      <th></th>\n",
              "    </tr>\n",
              "  </thead>\n",
              "  <tbody>\n",
              "    <tr>\n",
              "      <th>0</th>\n",
              "      <td>3.322185</td>\n",
              "    </tr>\n",
              "    <tr>\n",
              "      <th>1</th>\n",
              "      <td>9.079101</td>\n",
              "    </tr>\n",
              "  </tbody>\n",
              "</table>\n",
              "</div><br><label><b>dtype:</b> float64</label>"
            ]
          },
          "metadata": {},
          "execution_count": 121
        }
      ]
    },
    {
      "cell_type": "code",
      "source": [
        "df.groupby(\"Personality\")[\"Post_frequency\"].mean()"
      ],
      "metadata": {
        "colab": {
          "base_uri": "https://localhost:8080/",
          "height": 178
        },
        "id": "UxSr1RewDMC0",
        "outputId": "bc9bcc0f-3c9c-426b-e3ac-09bc56a49797"
      },
      "execution_count": 122,
      "outputs": [
        {
          "output_type": "execute_result",
          "data": {
            "text/plain": [
              "Personality\n",
              "0    1.535117\n",
              "1    5.597835\n",
              "Name: Post_frequency, dtype: float64"
            ],
            "text/html": [
              "<div>\n",
              "<style scoped>\n",
              "    .dataframe tbody tr th:only-of-type {\n",
              "        vertical-align: middle;\n",
              "    }\n",
              "\n",
              "    .dataframe tbody tr th {\n",
              "        vertical-align: top;\n",
              "    }\n",
              "\n",
              "    .dataframe thead th {\n",
              "        text-align: right;\n",
              "    }\n",
              "</style>\n",
              "<table border=\"1\" class=\"dataframe\">\n",
              "  <thead>\n",
              "    <tr style=\"text-align: right;\">\n",
              "      <th></th>\n",
              "      <th>Post_frequency</th>\n",
              "    </tr>\n",
              "    <tr>\n",
              "      <th>Personality</th>\n",
              "      <th></th>\n",
              "    </tr>\n",
              "  </thead>\n",
              "  <tbody>\n",
              "    <tr>\n",
              "      <th>0</th>\n",
              "      <td>1.535117</td>\n",
              "    </tr>\n",
              "    <tr>\n",
              "      <th>1</th>\n",
              "      <td>5.597835</td>\n",
              "    </tr>\n",
              "  </tbody>\n",
              "</table>\n",
              "</div><br><label><b>dtype:</b> float64</label>"
            ]
          },
          "metadata": {},
          "execution_count": 122
        }
      ]
    },
    {
      "cell_type": "markdown",
      "source": [
        "Short Key value summary:\n",
        "\n",
        "1. Avg Extrovert spend around 2.139 hrs alone and Introvert spend around 6.926 hrs alone\n",
        "2. Avg Extrovert and Introvert's frequency of attending social events are around 1.929 and 5.945\n",
        "3. Avg Extrovert and Introvert's individual goes outside frequency are around 1.418 and 4.612\n",
        "4. Avg Extrovert and Introvert's friends circle size are around 3.322 and 9.079\n",
        "5. Frequency of posting on social media of avg Extrovert and Introvert are 1.535 and 5.598\n"
      ],
      "metadata": {
        "id": "2qCPfPqZEx4Q"
      }
    },
    {
      "cell_type": "code",
      "source": [
        "# Feature engineering based on the stats\n",
        "# Calculate the threshold using the midpoint of the result i just find\n",
        "df['high_time_alone'] = (df['Time_spent_Alone'] > 4.5325).astype(int)\n",
        "df['high_social_event'] = (df['Social_event_attendance'] > 3.9370).astype(int)\n",
        "df['high_going_out'] = (df['Going_outside'] > 3.0150).astype(int)\n",
        "df['large_friends_circle'] = (df['Friends_circle_size'] > 6.2005).astype(int)\n",
        "df['high_post_freq'] = (df['Post_frequency'] > 3.5665).astype(int)\n",
        "print(df.head())"
      ],
      "metadata": {
        "colab": {
          "base_uri": "https://localhost:8080/"
        },
        "id": "N5nmodk9mG2H",
        "outputId": "f1c82621-804b-4de9-9f79-3e6f750a32ad"
      },
      "execution_count": 123,
      "outputs": [
        {
          "output_type": "stream",
          "name": "stdout",
          "text": [
            "   Time_spent_Alone  Stage_fear  Social_event_attendance  Going_outside  \\\n",
            "0               4.0           0                      4.0            6.0   \n",
            "1               9.0           1                      0.0            0.0   \n",
            "2               9.0           1                      1.0            2.0   \n",
            "3               0.0           0                      6.0            7.0   \n",
            "4               3.0           0                      9.0            4.0   \n",
            "\n",
            "   Drained_after_socializing  Friends_circle_size  Post_frequency  \\\n",
            "0                          0                 13.0             5.0   \n",
            "1                          1                  0.0             3.0   \n",
            "2                          1                  5.0             2.0   \n",
            "3                          0                 14.0             8.0   \n",
            "4                          0                  8.0             5.0   \n",
            "\n",
            "   Personality  high_time_alone  high_social_event  high_going_out  \\\n",
            "0            1                0                  1               1   \n",
            "1            0                1                  0               0   \n",
            "2            0                1                  0               0   \n",
            "3            1                0                  1               1   \n",
            "4            1                0                  1               1   \n",
            "\n",
            "   large_friends_circle  high_post_freq  \n",
            "0                     1               1  \n",
            "1                     0               0  \n",
            "2                     0               0  \n",
            "3                     1               1  \n",
            "4                     1               1  \n"
          ]
        }
      ]
    },
    {
      "cell_type": "code",
      "source": [
        "# Make the feature column\n",
        "feature_cols = [\n",
        "    'Time_spent_Alone', 'Stage_fear', 'Social_event_attendance', 'Going_outside',\n",
        "    'Drained_after_socializing', 'Friends_circle_size', 'Post_frequency',\n",
        "    'high_time_alone', 'high_social_event', 'high_going_out', 'large_friends_circle', 'high_post_freq'\n",
        "]\n",
        "X = df[feature_cols]\n",
        "y = df['Personality']\n"
      ],
      "metadata": {
        "id": "c4AJiYcsqzum"
      },
      "execution_count": 124,
      "outputs": []
    },
    {
      "cell_type": "code",
      "source": [
        "# Split the data\n",
        "X_train, X_test, y_train, y_test = train_test_split(\n",
        "    X, y, test_size=0.3, random_state=42, stratify=y\n",
        ")"
      ],
      "metadata": {
        "id": "wnMLm3CJhmss"
      },
      "execution_count": 125,
      "outputs": []
    },
    {
      "cell_type": "code",
      "source": [
        "# Train the model\n",
        "model = LogisticRegression(max_iter=1000, random_state=42)\n",
        "model.fit(X_train, y_train)\n",
        "y_pred = model.predict(X_test)\n",
        "print(\"Accuracy:\", accuracy_score(y_test, y_pred))\n",
        "print(\"\\nClassification Report:\\n\", classification_report(y_test, y_pred))"
      ],
      "metadata": {
        "colab": {
          "base_uri": "https://localhost:8080/"
        },
        "id": "DQUIHuiWtBZX",
        "outputId": "f013f6d0-05de-4b91-c2ec-454ca0431b50"
      },
      "execution_count": 126,
      "outputs": [
        {
          "output_type": "stream",
          "name": "stdout",
          "text": [
            "Accuracy: 0.9142857142857143\n",
            "\n",
            "Classification Report:\n",
            "               precision    recall  f1-score   support\n",
            "\n",
            "           0       0.90      0.90      0.90       269\n",
            "           1       0.93      0.93      0.93       361\n",
            "\n",
            "    accuracy                           0.91       630\n",
            "   macro avg       0.91      0.91      0.91       630\n",
            "weighted avg       0.91      0.91      0.91       630\n",
            "\n"
          ]
        }
      ]
    },
    {
      "cell_type": "code",
      "source": [
        "rf_model = RandomForestClassifier(n_estimators=100, random_state=42)\n",
        "rf_model.fit(X_train, y_train)\n",
        "y_pred_rf = rf_model.predict(X_test)\n",
        "print(\"Random Forest Accuracy:\", accuracy_score(y_test, y_pred_rf))\n",
        "print(\"\\nClassification Report:\\n\", classification_report(y_test, y_pred))"
      ],
      "metadata": {
        "colab": {
          "base_uri": "https://localhost:8080/"
        },
        "id": "8udj26MougwM",
        "outputId": "8a7a13ee-f6ad-45b1-96c6-2998094c3bd3"
      },
      "execution_count": 127,
      "outputs": [
        {
          "output_type": "stream",
          "name": "stdout",
          "text": [
            "Random Forest Accuracy: 0.8857142857142857\n",
            "\n",
            "Classification Report:\n",
            "               precision    recall  f1-score   support\n",
            "\n",
            "           0       0.90      0.90      0.90       269\n",
            "           1       0.93      0.93      0.93       361\n",
            "\n",
            "    accuracy                           0.91       630\n",
            "   macro avg       0.91      0.91      0.91       630\n",
            "weighted avg       0.91      0.91      0.91       630\n",
            "\n"
          ]
        }
      ]
    },
    {
      "cell_type": "code",
      "source": [
        "# Testing\n",
        "input_data = {\n",
        "    'Time_spent_Alone': 7.0,\n",
        "    'Stage_fear': 5,  # 1 for Yes, 0 for No\n",
        "    'Social_event_attendance': 2.0,\n",
        "    'Going_outside': 2.5,\n",
        "    'Drained_after_socializing': 0,  # 1 for Yes, 0 for No\n",
        "    'Friends_circle_size': 5,\n",
        "    'Post_frequency': 2.0\n",
        "}\n",
        "\n",
        "input_data['high_time_alone'] = int(input_data['Time_spent_Alone'] > 4.5325)\n",
        "input_data['high_social_event'] = int(input_data['Social_event_attendance'] > 3.9370)\n",
        "input_data['high_going_out'] = int(input_data['Going_outside'] > 3.0150)\n",
        "input_data['large_friends_circle'] = int(input_data['Friends_circle_size'] > 6.2005)\n",
        "input_data['high_post_freq'] = int(input_data['Post_frequency'] > 3.5665)\n",
        "\n",
        "input_df = pd.DataFrame([input_data])[feature_cols]\n",
        "print(input_df.head())\n",
        "input_df\n",
        "\n",
        "# Result\n",
        "prediction = model.predict(input_df)[0]\n",
        "result = \"Extrovert\" if prediction == 1 else \"Introvert\"\n",
        "print(\"Prediction:\", result)"
      ],
      "metadata": {
        "colab": {
          "base_uri": "https://localhost:8080/"
        },
        "id": "BvGgpGO-vDw-",
        "outputId": "e71093db-2f4e-48b8-ef5b-a02649a5a7c6"
      },
      "execution_count": 128,
      "outputs": [
        {
          "output_type": "stream",
          "name": "stdout",
          "text": [
            "   Time_spent_Alone  Stage_fear  Social_event_attendance  Going_outside  \\\n",
            "0               7.0           5                      2.0            2.5   \n",
            "\n",
            "   Drained_after_socializing  Friends_circle_size  Post_frequency  \\\n",
            "0                          0                    5             2.0   \n",
            "\n",
            "   high_time_alone  high_social_event  high_going_out  large_friends_circle  \\\n",
            "0                1                  0               0                     0   \n",
            "\n",
            "   high_post_freq  \n",
            "0               0  \n",
            "Prediction: Introvert\n"
          ]
        }
      ]
    }
  ]
}